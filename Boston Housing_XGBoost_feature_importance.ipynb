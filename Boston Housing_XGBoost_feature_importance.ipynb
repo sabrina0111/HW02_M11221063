{
 "cells": [
  {
   "cell_type": "code",
   "execution_count": 1,
   "id": "8e9eac1e",
   "metadata": {},
   "outputs": [],
   "source": [
    "import pandas as pd\n",
    "import numpy as np\n",
    "import matplotlib.pyplot as plt\n",
    "from sklearn.model_selection import train_test_split\n",
    "from sklearn.preprocessing import MinMaxScaler\n",
    "from sklearn.impute import SimpleImputer\n",
    "from xgboost import XGBRegressor\n",
    "from sklearn.metrics import mean_absolute_percentage_error, mean_squared_error, r2_score"
   ]
  },
  {
   "cell_type": "code",
   "execution_count": 50,
   "id": "e022329e",
   "metadata": {},
   "outputs": [
    {
     "data": {
      "text/html": [
       "<div>\n",
       "<style scoped>\n",
       "    .dataframe tbody tr th:only-of-type {\n",
       "        vertical-align: middle;\n",
       "    }\n",
       "\n",
       "    .dataframe tbody tr th {\n",
       "        vertical-align: top;\n",
       "    }\n",
       "\n",
       "    .dataframe thead th {\n",
       "        text-align: right;\n",
       "    }\n",
       "</style>\n",
       "<table border=\"1\" class=\"dataframe\">\n",
       "  <thead>\n",
       "    <tr style=\"text-align: right;\">\n",
       "      <th></th>\n",
       "      <th>CRIM</th>\n",
       "      <th>ZN</th>\n",
       "      <th>INDUS</th>\n",
       "      <th>CHAS</th>\n",
       "      <th>NOX</th>\n",
       "      <th>RM</th>\n",
       "      <th>AGE</th>\n",
       "      <th>DIS</th>\n",
       "      <th>RAD</th>\n",
       "      <th>TAX</th>\n",
       "      <th>PTRATIO</th>\n",
       "      <th>B</th>\n",
       "      <th>LSTAT</th>\n",
       "      <th>MEDV</th>\n",
       "    </tr>\n",
       "  </thead>\n",
       "  <tbody>\n",
       "    <tr>\n",
       "      <th>0</th>\n",
       "      <td>0.00632</td>\n",
       "      <td>18.0</td>\n",
       "      <td>2.31</td>\n",
       "      <td>0</td>\n",
       "      <td>0.538</td>\n",
       "      <td>6.575</td>\n",
       "      <td>65.2</td>\n",
       "      <td>4.0900</td>\n",
       "      <td>1</td>\n",
       "      <td>296</td>\n",
       "      <td>15.3</td>\n",
       "      <td>396.90</td>\n",
       "      <td>4.98</td>\n",
       "      <td>24.0</td>\n",
       "    </tr>\n",
       "    <tr>\n",
       "      <th>1</th>\n",
       "      <td>0.02731</td>\n",
       "      <td>0.0</td>\n",
       "      <td>7.07</td>\n",
       "      <td>0</td>\n",
       "      <td>0.469</td>\n",
       "      <td>6.421</td>\n",
       "      <td>78.9</td>\n",
       "      <td>4.9671</td>\n",
       "      <td>2</td>\n",
       "      <td>242</td>\n",
       "      <td>17.8</td>\n",
       "      <td>396.90</td>\n",
       "      <td>9.14</td>\n",
       "      <td>21.6</td>\n",
       "    </tr>\n",
       "    <tr>\n",
       "      <th>2</th>\n",
       "      <td>0.02729</td>\n",
       "      <td>0.0</td>\n",
       "      <td>7.07</td>\n",
       "      <td>0</td>\n",
       "      <td>0.469</td>\n",
       "      <td>7.185</td>\n",
       "      <td>61.1</td>\n",
       "      <td>4.9671</td>\n",
       "      <td>2</td>\n",
       "      <td>242</td>\n",
       "      <td>17.8</td>\n",
       "      <td>392.83</td>\n",
       "      <td>4.03</td>\n",
       "      <td>34.7</td>\n",
       "    </tr>\n",
       "    <tr>\n",
       "      <th>3</th>\n",
       "      <td>0.03237</td>\n",
       "      <td>0.0</td>\n",
       "      <td>2.18</td>\n",
       "      <td>0</td>\n",
       "      <td>0.458</td>\n",
       "      <td>6.998</td>\n",
       "      <td>45.8</td>\n",
       "      <td>6.0622</td>\n",
       "      <td>3</td>\n",
       "      <td>222</td>\n",
       "      <td>18.7</td>\n",
       "      <td>394.63</td>\n",
       "      <td>2.94</td>\n",
       "      <td>33.4</td>\n",
       "    </tr>\n",
       "    <tr>\n",
       "      <th>4</th>\n",
       "      <td>0.06905</td>\n",
       "      <td>0.0</td>\n",
       "      <td>2.18</td>\n",
       "      <td>0</td>\n",
       "      <td>0.458</td>\n",
       "      <td>7.147</td>\n",
       "      <td>54.2</td>\n",
       "      <td>6.0622</td>\n",
       "      <td>3</td>\n",
       "      <td>222</td>\n",
       "      <td>18.7</td>\n",
       "      <td>396.90</td>\n",
       "      <td>5.33</td>\n",
       "      <td>36.2</td>\n",
       "    </tr>\n",
       "    <tr>\n",
       "      <th>...</th>\n",
       "      <td>...</td>\n",
       "      <td>...</td>\n",
       "      <td>...</td>\n",
       "      <td>...</td>\n",
       "      <td>...</td>\n",
       "      <td>...</td>\n",
       "      <td>...</td>\n",
       "      <td>...</td>\n",
       "      <td>...</td>\n",
       "      <td>...</td>\n",
       "      <td>...</td>\n",
       "      <td>...</td>\n",
       "      <td>...</td>\n",
       "      <td>...</td>\n",
       "    </tr>\n",
       "    <tr>\n",
       "      <th>501</th>\n",
       "      <td>0.06263</td>\n",
       "      <td>0.0</td>\n",
       "      <td>11.93</td>\n",
       "      <td>0</td>\n",
       "      <td>0.573</td>\n",
       "      <td>6.593</td>\n",
       "      <td>69.1</td>\n",
       "      <td>2.4786</td>\n",
       "      <td>1</td>\n",
       "      <td>273</td>\n",
       "      <td>21.0</td>\n",
       "      <td>391.99</td>\n",
       "      <td>9.67</td>\n",
       "      <td>22.4</td>\n",
       "    </tr>\n",
       "    <tr>\n",
       "      <th>502</th>\n",
       "      <td>0.04527</td>\n",
       "      <td>0.0</td>\n",
       "      <td>11.93</td>\n",
       "      <td>0</td>\n",
       "      <td>0.573</td>\n",
       "      <td>6.120</td>\n",
       "      <td>76.7</td>\n",
       "      <td>2.2875</td>\n",
       "      <td>1</td>\n",
       "      <td>273</td>\n",
       "      <td>21.0</td>\n",
       "      <td>396.90</td>\n",
       "      <td>9.08</td>\n",
       "      <td>20.6</td>\n",
       "    </tr>\n",
       "    <tr>\n",
       "      <th>503</th>\n",
       "      <td>0.06076</td>\n",
       "      <td>0.0</td>\n",
       "      <td>11.93</td>\n",
       "      <td>0</td>\n",
       "      <td>0.573</td>\n",
       "      <td>6.976</td>\n",
       "      <td>91.0</td>\n",
       "      <td>2.1675</td>\n",
       "      <td>1</td>\n",
       "      <td>273</td>\n",
       "      <td>21.0</td>\n",
       "      <td>396.90</td>\n",
       "      <td>5.64</td>\n",
       "      <td>23.9</td>\n",
       "    </tr>\n",
       "    <tr>\n",
       "      <th>504</th>\n",
       "      <td>0.10959</td>\n",
       "      <td>0.0</td>\n",
       "      <td>11.93</td>\n",
       "      <td>0</td>\n",
       "      <td>0.573</td>\n",
       "      <td>6.794</td>\n",
       "      <td>89.3</td>\n",
       "      <td>2.3889</td>\n",
       "      <td>1</td>\n",
       "      <td>273</td>\n",
       "      <td>21.0</td>\n",
       "      <td>393.45</td>\n",
       "      <td>6.48</td>\n",
       "      <td>22.0</td>\n",
       "    </tr>\n",
       "    <tr>\n",
       "      <th>505</th>\n",
       "      <td>0.04741</td>\n",
       "      <td>0.0</td>\n",
       "      <td>11.93</td>\n",
       "      <td>0</td>\n",
       "      <td>0.573</td>\n",
       "      <td>6.030</td>\n",
       "      <td>80.8</td>\n",
       "      <td>2.5050</td>\n",
       "      <td>1</td>\n",
       "      <td>273</td>\n",
       "      <td>21.0</td>\n",
       "      <td>396.90</td>\n",
       "      <td>7.88</td>\n",
       "      <td>11.9</td>\n",
       "    </tr>\n",
       "  </tbody>\n",
       "</table>\n",
       "<p>506 rows × 14 columns</p>\n",
       "</div>"
      ],
      "text/plain": [
       "        CRIM    ZN  INDUS  CHAS    NOX     RM   AGE     DIS  RAD  TAX  \\\n",
       "0    0.00632  18.0   2.31     0  0.538  6.575  65.2  4.0900    1  296   \n",
       "1    0.02731   0.0   7.07     0  0.469  6.421  78.9  4.9671    2  242   \n",
       "2    0.02729   0.0   7.07     0  0.469  7.185  61.1  4.9671    2  242   \n",
       "3    0.03237   0.0   2.18     0  0.458  6.998  45.8  6.0622    3  222   \n",
       "4    0.06905   0.0   2.18     0  0.458  7.147  54.2  6.0622    3  222   \n",
       "..       ...   ...    ...   ...    ...    ...   ...     ...  ...  ...   \n",
       "501  0.06263   0.0  11.93     0  0.573  6.593  69.1  2.4786    1  273   \n",
       "502  0.04527   0.0  11.93     0  0.573  6.120  76.7  2.2875    1  273   \n",
       "503  0.06076   0.0  11.93     0  0.573  6.976  91.0  2.1675    1  273   \n",
       "504  0.10959   0.0  11.93     0  0.573  6.794  89.3  2.3889    1  273   \n",
       "505  0.04741   0.0  11.93     0  0.573  6.030  80.8  2.5050    1  273   \n",
       "\n",
       "     PTRATIO       B  LSTAT  MEDV  \n",
       "0       15.3  396.90   4.98  24.0  \n",
       "1       17.8  396.90   9.14  21.6  \n",
       "2       17.8  392.83   4.03  34.7  \n",
       "3       18.7  394.63   2.94  33.4  \n",
       "4       18.7  396.90   5.33  36.2  \n",
       "..       ...     ...    ...   ...  \n",
       "501     21.0  391.99   9.67  22.4  \n",
       "502     21.0  396.90   9.08  20.6  \n",
       "503     21.0  396.90   5.64  23.9  \n",
       "504     21.0  393.45   6.48  22.0  \n",
       "505     21.0  396.90   7.88  11.9  \n",
       "\n",
       "[506 rows x 14 columns]"
      ]
     },
     "execution_count": 50,
     "metadata": {},
     "output_type": "execute_result"
    }
   ],
   "source": [
    "# 讀取資料\n",
    "df = pd.read_csv(\"boston_house_prices.csv\")\n",
    "df"
   ]
  },
  {
   "cell_type": "code",
   "execution_count": 51,
   "id": "03232f43",
   "metadata": {},
   "outputs": [],
   "source": [
    "# 'MEDV'是目標欄位\n",
    "y = df['MEDV']\n",
    "X = df.drop('MEDV', axis=1)"
   ]
  },
  {
   "cell_type": "markdown",
   "id": "86227737",
   "metadata": {},
   "source": [
    "# 資料前處理(缺失值檢查、MinMax正規化、資料切割)"
   ]
  },
  {
   "cell_type": "code",
   "execution_count": 52,
   "id": "190c0e9a",
   "metadata": {},
   "outputs": [
    {
     "name": "stdout",
     "output_type": "stream",
     "text": [
      "缺失值統計：\n",
      "Series([], dtype: int64)\n"
     ]
    }
   ],
   "source": [
    "# 檢查數據集中的缺失值\n",
    "missing_values = df.isnull().sum()\n",
    "print(\"缺失值統計：\")\n",
    "print(missing_values[missing_values > 0])\n",
    "\n",
    "# 如果有缺失值，使用平均值填充\n",
    "if missing_values.sum() > 0:\n",
    "    imputer = SimpleImputer(strategy='mean')\n",
    "    df = pd.DataFrame(imputer.fit_transform(df), columns=df.columns)"
   ]
  },
  {
   "cell_type": "code",
   "execution_count": 53,
   "id": "7193bcc4",
   "metadata": {},
   "outputs": [
    {
     "name": "stdout",
     "output_type": "stream",
     "text": [
      "原始資料集的平均值：\n",
      "CRIM         3.613524\n",
      "ZN          11.363636\n",
      "INDUS       11.136779\n",
      "CHAS         0.069170\n",
      "NOX          0.554695\n",
      "RM           6.284634\n",
      "AGE         68.574901\n",
      "DIS          3.795043\n",
      "RAD          9.549407\n",
      "TAX        408.237154\n",
      "PTRATIO     18.455534\n",
      "B          356.674032\n",
      "LSTAT       12.653063\n",
      "MEDV        22.532806\n",
      "dtype: float64\n",
      "\n",
      "原始資料集的標準差：\n",
      "CRIM         8.601545\n",
      "ZN          23.322453\n",
      "INDUS        6.860353\n",
      "CHAS         0.253994\n",
      "NOX          0.115878\n",
      "RM           0.702617\n",
      "AGE         28.148861\n",
      "DIS          2.105710\n",
      "RAD          8.707259\n",
      "TAX        168.537116\n",
      "PTRATIO      2.164946\n",
      "B           91.294864\n",
      "LSTAT        7.141062\n",
      "MEDV         9.197104\n",
      "dtype: float64\n",
      "\n",
      "正規化後的平均值：\n",
      "CRIM       0.040544\n",
      "ZN         0.113636\n",
      "INDUS      0.391378\n",
      "CHAS       0.069170\n",
      "NOX        0.349167\n",
      "RM         0.521869\n",
      "AGE        0.676364\n",
      "DIS        0.242381\n",
      "RAD        0.371713\n",
      "TAX        0.422208\n",
      "PTRATIO    0.622929\n",
      "B          0.898568\n",
      "LSTAT      0.301409\n",
      "dtype: float64\n",
      "\n",
      "正規化後的標準差：\n",
      "CRIM       0.096679\n",
      "ZN         0.233225\n",
      "INDUS      0.251479\n",
      "CHAS       0.253994\n",
      "NOX        0.238431\n",
      "RM         0.134627\n",
      "AGE        0.289896\n",
      "DIS        0.191482\n",
      "RAD        0.378576\n",
      "TAX        0.321636\n",
      "PTRATIO    0.230313\n",
      "B          0.230205\n",
      "LSTAT      0.197049\n",
      "dtype: float64\n"
     ]
    }
   ],
   "source": [
    "# 列印原始資料集的平均值和標準差\n",
    "print(\"原始資料集的平均值：\")\n",
    "print(df.mean())\n",
    "print(\"\\n原始資料集的標準差：\")\n",
    "print(df.std())\n",
    "# MinMax正規化\n",
    "scaler = MinMaxScaler()\n",
    "X_scaled = pd.DataFrame(scaler.fit_transform(X), columns=X.columns)\n",
    "# 列印正規化後的平均值和標準差\n",
    "print(\"\\n正規化後的平均值：\")\n",
    "print(X_scaled.mean())\n",
    "print(\"\\n正規化後的標準差：\")\n",
    "print(X_scaled.std())"
   ]
  },
  {
   "cell_type": "code",
   "execution_count": 54,
   "id": "8e9af95c",
   "metadata": {},
   "outputs": [],
   "source": [
    "# 切割數據集為訓練集和測試集\n",
    "#Data拆80% & 20%至Training & Testing\n",
    "X_train, X_test, y_train, y_test = train_test_split(X_scaled, y, test_size=0.2, random_state=42)"
   ]
  },
  {
   "cell_type": "markdown",
   "id": "50258073",
   "metadata": {},
   "source": [
    "# XGBOOST模型建構"
   ]
  },
  {
   "cell_type": "code",
   "execution_count": 55,
   "id": "292516bd",
   "metadata": {},
   "outputs": [
    {
     "data": {
      "text/html": [
       "<style>#sk-container-id-5 {color: black;background-color: white;}#sk-container-id-5 pre{padding: 0;}#sk-container-id-5 div.sk-toggleable {background-color: white;}#sk-container-id-5 label.sk-toggleable__label {cursor: pointer;display: block;width: 100%;margin-bottom: 0;padding: 0.3em;box-sizing: border-box;text-align: center;}#sk-container-id-5 label.sk-toggleable__label-arrow:before {content: \"▸\";float: left;margin-right: 0.25em;color: #696969;}#sk-container-id-5 label.sk-toggleable__label-arrow:hover:before {color: black;}#sk-container-id-5 div.sk-estimator:hover label.sk-toggleable__label-arrow:before {color: black;}#sk-container-id-5 div.sk-toggleable__content {max-height: 0;max-width: 0;overflow: hidden;text-align: left;background-color: #f0f8ff;}#sk-container-id-5 div.sk-toggleable__content pre {margin: 0.2em;color: black;border-radius: 0.25em;background-color: #f0f8ff;}#sk-container-id-5 input.sk-toggleable__control:checked~div.sk-toggleable__content {max-height: 200px;max-width: 100%;overflow: auto;}#sk-container-id-5 input.sk-toggleable__control:checked~label.sk-toggleable__label-arrow:before {content: \"▾\";}#sk-container-id-5 div.sk-estimator input.sk-toggleable__control:checked~label.sk-toggleable__label {background-color: #d4ebff;}#sk-container-id-5 div.sk-label input.sk-toggleable__control:checked~label.sk-toggleable__label {background-color: #d4ebff;}#sk-container-id-5 input.sk-hidden--visually {border: 0;clip: rect(1px 1px 1px 1px);clip: rect(1px, 1px, 1px, 1px);height: 1px;margin: -1px;overflow: hidden;padding: 0;position: absolute;width: 1px;}#sk-container-id-5 div.sk-estimator {font-family: monospace;background-color: #f0f8ff;border: 1px dotted black;border-radius: 0.25em;box-sizing: border-box;margin-bottom: 0.5em;}#sk-container-id-5 div.sk-estimator:hover {background-color: #d4ebff;}#sk-container-id-5 div.sk-parallel-item::after {content: \"\";width: 100%;border-bottom: 1px solid gray;flex-grow: 1;}#sk-container-id-5 div.sk-label:hover label.sk-toggleable__label {background-color: #d4ebff;}#sk-container-id-5 div.sk-serial::before {content: \"\";position: absolute;border-left: 1px solid gray;box-sizing: border-box;top: 0;bottom: 0;left: 50%;z-index: 0;}#sk-container-id-5 div.sk-serial {display: flex;flex-direction: column;align-items: center;background-color: white;padding-right: 0.2em;padding-left: 0.2em;position: relative;}#sk-container-id-5 div.sk-item {position: relative;z-index: 1;}#sk-container-id-5 div.sk-parallel {display: flex;align-items: stretch;justify-content: center;background-color: white;position: relative;}#sk-container-id-5 div.sk-item::before, #sk-container-id-5 div.sk-parallel-item::before {content: \"\";position: absolute;border-left: 1px solid gray;box-sizing: border-box;top: 0;bottom: 0;left: 50%;z-index: -1;}#sk-container-id-5 div.sk-parallel-item {display: flex;flex-direction: column;z-index: 1;position: relative;background-color: white;}#sk-container-id-5 div.sk-parallel-item:first-child::after {align-self: flex-end;width: 50%;}#sk-container-id-5 div.sk-parallel-item:last-child::after {align-self: flex-start;width: 50%;}#sk-container-id-5 div.sk-parallel-item:only-child::after {width: 0;}#sk-container-id-5 div.sk-dashed-wrapped {border: 1px dashed gray;margin: 0 0.4em 0.5em 0.4em;box-sizing: border-box;padding-bottom: 0.4em;background-color: white;}#sk-container-id-5 div.sk-label label {font-family: monospace;font-weight: bold;display: inline-block;line-height: 1.2em;}#sk-container-id-5 div.sk-label-container {text-align: center;}#sk-container-id-5 div.sk-container {/* jupyter's `normalize.less` sets `[hidden] { display: none; }` but bootstrap.min.css set `[hidden] { display: none !important; }` so we also need the `!important` here to be able to override the default hidden behavior on the sphinx rendered scikit-learn.org. See: https://github.com/scikit-learn/scikit-learn/issues/21755 */display: inline-block !important;position: relative;}#sk-container-id-5 div.sk-text-repr-fallback {display: none;}</style><div id=\"sk-container-id-5\" class=\"sk-top-container\"><div class=\"sk-text-repr-fallback\"><pre>XGBRegressor(base_score=None, booster=None, callbacks=None,\n",
       "             colsample_bylevel=None, colsample_bynode=None,\n",
       "             colsample_bytree=None, device=None, early_stopping_rounds=None,\n",
       "             enable_categorical=False, eval_metric=None, feature_types=None,\n",
       "             gamma=None, grow_policy=None, importance_type=None,\n",
       "             interaction_constraints=None, learning_rate=None, max_bin=None,\n",
       "             max_cat_threshold=None, max_cat_to_onehot=None,\n",
       "             max_delta_step=None, max_depth=None, max_leaves=None,\n",
       "             min_child_weight=None, missing=nan, monotone_constraints=None,\n",
       "             multi_strategy=None, n_estimators=None, n_jobs=None,\n",
       "             num_parallel_tree=None, random_state=None, ...)</pre><b>In a Jupyter environment, please rerun this cell to show the HTML representation or trust the notebook. <br />On GitHub, the HTML representation is unable to render, please try loading this page with nbviewer.org.</b></div><div class=\"sk-container\" hidden><div class=\"sk-item\"><div class=\"sk-estimator sk-toggleable\"><input class=\"sk-toggleable__control sk-hidden--visually\" id=\"sk-estimator-id-5\" type=\"checkbox\" checked><label for=\"sk-estimator-id-5\" class=\"sk-toggleable__label sk-toggleable__label-arrow\">XGBRegressor</label><div class=\"sk-toggleable__content\"><pre>XGBRegressor(base_score=None, booster=None, callbacks=None,\n",
       "             colsample_bylevel=None, colsample_bynode=None,\n",
       "             colsample_bytree=None, device=None, early_stopping_rounds=None,\n",
       "             enable_categorical=False, eval_metric=None, feature_types=None,\n",
       "             gamma=None, grow_policy=None, importance_type=None,\n",
       "             interaction_constraints=None, learning_rate=None, max_bin=None,\n",
       "             max_cat_threshold=None, max_cat_to_onehot=None,\n",
       "             max_delta_step=None, max_depth=None, max_leaves=None,\n",
       "             min_child_weight=None, missing=nan, monotone_constraints=None,\n",
       "             multi_strategy=None, n_estimators=None, n_jobs=None,\n",
       "             num_parallel_tree=None, random_state=None, ...)</pre></div></div></div></div></div>"
      ],
      "text/plain": [
       "XGBRegressor(base_score=None, booster=None, callbacks=None,\n",
       "             colsample_bylevel=None, colsample_bynode=None,\n",
       "             colsample_bytree=None, device=None, early_stopping_rounds=None,\n",
       "             enable_categorical=False, eval_metric=None, feature_types=None,\n",
       "             gamma=None, grow_policy=None, importance_type=None,\n",
       "             interaction_constraints=None, learning_rate=None, max_bin=None,\n",
       "             max_cat_threshold=None, max_cat_to_onehot=None,\n",
       "             max_delta_step=None, max_depth=None, max_leaves=None,\n",
       "             min_child_weight=None, missing=nan, monotone_constraints=None,\n",
       "             multi_strategy=None, n_estimators=None, n_jobs=None,\n",
       "             num_parallel_tree=None, random_state=None, ...)"
      ]
     },
     "execution_count": 55,
     "metadata": {},
     "output_type": "execute_result"
    }
   ],
   "source": [
    "# 建立XGBoost模型\n",
    "model = XGBRegressor()\n",
    "model.fit(X_train, y_train)"
   ]
  },
  {
   "cell_type": "code",
   "execution_count": 56,
   "id": "6fb21632",
   "metadata": {},
   "outputs": [],
   "source": [
    "# 預測\n",
    "y_pred = model.predict(X_test)"
   ]
  },
  {
   "cell_type": "code",
   "execution_count": 57,
   "id": "7c9359ab",
   "metadata": {},
   "outputs": [
    {
     "name": "stdout",
     "output_type": "stream",
     "text": [
      "MAPE: 0.10536624699449404\n",
      "RMSE: 2.62854171840299\n",
      "R2: 0.9057837838492537\n"
     ]
    }
   ],
   "source": [
    "# 計算原始資料績效指標\n",
    "mape = mean_absolute_percentage_error(y_test, y_pred)\n",
    "rmse = np.sqrt(mean_squared_error(y_test, y_pred))\n",
    "r2 = r2_score(y_test, y_pred)\n",
    "\n",
    "print(f\"MAPE: {mape}\")\n",
    "print(f\"RMSE: {rmse}\")\n",
    "print(f\"R2: {r2}\")"
   ]
  },
  {
   "cell_type": "code",
   "execution_count": 58,
   "id": "decb12d9",
   "metadata": {
    "scrolled": true
   },
   "outputs": [
    {
     "name": "stdout",
     "output_type": "stream",
     "text": [
      "\n",
      "特徵重要性：\n",
      "CRIM: 0.036415647715330124\n",
      "ZN: 0.0029477791395038366\n",
      "INDUS: 0.01015847735106945\n",
      "CHAS: 0.00758212897926569\n",
      "NOX: 0.024681078270077705\n",
      "RM: 0.40330278873443604\n",
      "AGE: 0.011991804465651512\n",
      "DIS: 0.06351681053638458\n",
      "RAD: 0.02167651243507862\n",
      "TAX: 0.046922195702791214\n",
      "PTRATIO: 0.035251419991254807\n",
      "B: 0.010268994607031345\n",
      "LSTAT: 0.3252844214439392\n"
     ]
    }
   ],
   "source": [
    "# 特徵重要性\n",
    "feature_importances = model.feature_importances_\n",
    "print(\"\\n特徵重要性：\")\n",
    "for col, imp in zip(X.columns, feature_importances):\n",
    "    print(f\"{col}: {imp}\")"
   ]
  },
  {
   "cell_type": "code",
   "execution_count": 71,
   "id": "e2b64674",
   "metadata": {},
   "outputs": [
    {
     "data": {
      "image/png": "[encoded data removed]",
      "text/plain": [
       "<Figure size 640x480 with 1 Axes>"
      ]
     },
     "metadata": {},
     "output_type": "display_data"
    }
   ],
   "source": [
    "plt.bar(X.columns, feature_importances)\n",
    "plt.ylabel('Feature Importance')\n",
    "plt.xlabel('Feature')\n",
    "plt.title('Feature Importance')\n",
    "plt.xticks(rotation=45)\n",
    "plt.show()"
   ]
  },
  {
   "cell_type": "code",
   "execution_count": 62,
   "id": "76cefd91",
   "metadata": {},
   "outputs": [
    {
     "name": "stdout",
     "output_type": "stream",
     "text": [
      "最大特徵重要性: RM - 0.40330278873443604\n",
      "最小特徵重要性: ZN - 0.0029477791395038366\n"
     ]
    }
   ],
   "source": [
    "# 找到最大和最小特徵重要性的特徵名稱和值\n",
    "max_importance = max(feature_importances)\n",
    "min_importance = min(feature_importances)\n",
    "max_feature = X.columns[np.argmax(feature_importances)]\n",
    "min_feature = X.columns[np.argmin(feature_importances)]\n",
    "\n",
    "print(f\"最大特徵重要性: {max_feature} - {max_importance}\")\n",
    "print(f\"最小特徵重要性: {min_feature} - {min_importance}\")"
   ]
  },
  {
   "cell_type": "markdown",
   "id": "4dd7fd57",
   "metadata": {},
   "source": [
    "# 選擇重要性大於平均重要性的特徵，將其特徵刪除作為重新訓練的模型"
   ]
  },
  {
   "cell_type": "code",
   "execution_count": 67,
   "id": "a221fe56",
   "metadata": {},
   "outputs": [
    {
     "name": "stdout",
     "output_type": "stream",
     "text": [
      "選擇的重要特徵：\n",
      "Index(['RM', 'LSTAT'], dtype='object')\n"
     ]
    }
   ],
   "source": [
    "# 根據特徵重要性進行特徵篩選，選擇重要性大於平均重要性的特徵，要將其特徵刪除作為重新訓練的模型\n",
    "important_features = X.columns[feature_importances > feature_importances.mean()]\n",
    "X_important_train = X_train[important_features]\n",
    "X_important_test = X_test[important_features]\n",
    "\n",
    "print(\"選擇的重要特徵：\")\n",
    "print(important_features)"
   ]
  },
  {
   "cell_type": "code",
   "execution_count": 64,
   "id": "cf05a0a3",
   "metadata": {},
   "outputs": [
    {
     "data": {
      "text/html": [
       "<style>#sk-container-id-6 {color: black;background-color: white;}#sk-container-id-6 pre{padding: 0;}#sk-container-id-6 div.sk-toggleable {background-color: white;}#sk-container-id-6 label.sk-toggleable__label {cursor: pointer;display: block;width: 100%;margin-bottom: 0;padding: 0.3em;box-sizing: border-box;text-align: center;}#sk-container-id-6 label.sk-toggleable__label-arrow:before {content: \"▸\";float: left;margin-right: 0.25em;color: #696969;}#sk-container-id-6 label.sk-toggleable__label-arrow:hover:before {color: black;}#sk-container-id-6 div.sk-estimator:hover label.sk-toggleable__label-arrow:before {color: black;}#sk-container-id-6 div.sk-toggleable__content {max-height: 0;max-width: 0;overflow: hidden;text-align: left;background-color: #f0f8ff;}#sk-container-id-6 div.sk-toggleable__content pre {margin: 0.2em;color: black;border-radius: 0.25em;background-color: #f0f8ff;}#sk-container-id-6 input.sk-toggleable__control:checked~div.sk-toggleable__content {max-height: 200px;max-width: 100%;overflow: auto;}#sk-container-id-6 input.sk-toggleable__control:checked~label.sk-toggleable__label-arrow:before {content: \"▾\";}#sk-container-id-6 div.sk-estimator input.sk-toggleable__control:checked~label.sk-toggleable__label {background-color: #d4ebff;}#sk-container-id-6 div.sk-label input.sk-toggleable__control:checked~label.sk-toggleable__label {background-color: #d4ebff;}#sk-container-id-6 input.sk-hidden--visually {border: 0;clip: rect(1px 1px 1px 1px);clip: rect(1px, 1px, 1px, 1px);height: 1px;margin: -1px;overflow: hidden;padding: 0;position: absolute;width: 1px;}#sk-container-id-6 div.sk-estimator {font-family: monospace;background-color: #f0f8ff;border: 1px dotted black;border-radius: 0.25em;box-sizing: border-box;margin-bottom: 0.5em;}#sk-container-id-6 div.sk-estimator:hover {background-color: #d4ebff;}#sk-container-id-6 div.sk-parallel-item::after {content: \"\";width: 100%;border-bottom: 1px solid gray;flex-grow: 1;}#sk-container-id-6 div.sk-label:hover label.sk-toggleable__label {background-color: #d4ebff;}#sk-container-id-6 div.sk-serial::before {content: \"\";position: absolute;border-left: 1px solid gray;box-sizing: border-box;top: 0;bottom: 0;left: 50%;z-index: 0;}#sk-container-id-6 div.sk-serial {display: flex;flex-direction: column;align-items: center;background-color: white;padding-right: 0.2em;padding-left: 0.2em;position: relative;}#sk-container-id-6 div.sk-item {position: relative;z-index: 1;}#sk-container-id-6 div.sk-parallel {display: flex;align-items: stretch;justify-content: center;background-color: white;position: relative;}#sk-container-id-6 div.sk-item::before, #sk-container-id-6 div.sk-parallel-item::before {content: \"\";position: absolute;border-left: 1px solid gray;box-sizing: border-box;top: 0;bottom: 0;left: 50%;z-index: -1;}#sk-container-id-6 div.sk-parallel-item {display: flex;flex-direction: column;z-index: 1;position: relative;background-color: white;}#sk-container-id-6 div.sk-parallel-item:first-child::after {align-self: flex-end;width: 50%;}#sk-container-id-6 div.sk-parallel-item:last-child::after {align-self: flex-start;width: 50%;}#sk-container-id-6 div.sk-parallel-item:only-child::after {width: 0;}#sk-container-id-6 div.sk-dashed-wrapped {border: 1px dashed gray;margin: 0 0.4em 0.5em 0.4em;box-sizing: border-box;padding-bottom: 0.4em;background-color: white;}#sk-container-id-6 div.sk-label label {font-family: monospace;font-weight: bold;display: inline-block;line-height: 1.2em;}#sk-container-id-6 div.sk-label-container {text-align: center;}#sk-container-id-6 div.sk-container {/* jupyter's `normalize.less` sets `[hidden] { display: none; }` but bootstrap.min.css set `[hidden] { display: none !important; }` so we also need the `!important` here to be able to override the default hidden behavior on the sphinx rendered scikit-learn.org. See: https://github.com/scikit-learn/scikit-learn/issues/21755 */display: inline-block !important;position: relative;}#sk-container-id-6 div.sk-text-repr-fallback {display: none;}</style><div id=\"sk-container-id-6\" class=\"sk-top-container\"><div class=\"sk-text-repr-fallback\"><pre>XGBRegressor(base_score=None, booster=None, callbacks=None,\n",
       "             colsample_bylevel=None, colsample_bynode=None,\n",
       "             colsample_bytree=None, device=None, early_stopping_rounds=None,\n",
       "             enable_categorical=False, eval_metric=None, feature_types=None,\n",
       "             gamma=None, grow_policy=None, importance_type=None,\n",
       "             interaction_constraints=None, learning_rate=None, max_bin=None,\n",
       "             max_cat_threshold=None, max_cat_to_onehot=None,\n",
       "             max_delta_step=None, max_depth=None, max_leaves=None,\n",
       "             min_child_weight=None, missing=nan, monotone_constraints=None,\n",
       "             multi_strategy=None, n_estimators=None, n_jobs=None,\n",
       "             num_parallel_tree=None, random_state=None, ...)</pre><b>In a Jupyter environment, please rerun this cell to show the HTML representation or trust the notebook. <br />On GitHub, the HTML representation is unable to render, please try loading this page with nbviewer.org.</b></div><div class=\"sk-container\" hidden><div class=\"sk-item\"><div class=\"sk-estimator sk-toggleable\"><input class=\"sk-toggleable__control sk-hidden--visually\" id=\"sk-estimator-id-6\" type=\"checkbox\" checked><label for=\"sk-estimator-id-6\" class=\"sk-toggleable__label sk-toggleable__label-arrow\">XGBRegressor</label><div class=\"sk-toggleable__content\"><pre>XGBRegressor(base_score=None, booster=None, callbacks=None,\n",
       "             colsample_bylevel=None, colsample_bynode=None,\n",
       "             colsample_bytree=None, device=None, early_stopping_rounds=None,\n",
       "             enable_categorical=False, eval_metric=None, feature_types=None,\n",
       "             gamma=None, grow_policy=None, importance_type=None,\n",
       "             interaction_constraints=None, learning_rate=None, max_bin=None,\n",
       "             max_cat_threshold=None, max_cat_to_onehot=None,\n",
       "             max_delta_step=None, max_depth=None, max_leaves=None,\n",
       "             min_child_weight=None, missing=nan, monotone_constraints=None,\n",
       "             multi_strategy=None, n_estimators=None, n_jobs=None,\n",
       "             num_parallel_tree=None, random_state=None, ...)</pre></div></div></div></div></div>"
      ],
      "text/plain": [
       "XGBRegressor(base_score=None, booster=None, callbacks=None,\n",
       "             colsample_bylevel=None, colsample_bynode=None,\n",
       "             colsample_bytree=None, device=None, early_stopping_rounds=None,\n",
       "             enable_categorical=False, eval_metric=None, feature_types=None,\n",
       "             gamma=None, grow_policy=None, importance_type=None,\n",
       "             interaction_constraints=None, learning_rate=None, max_bin=None,\n",
       "             max_cat_threshold=None, max_cat_to_onehot=None,\n",
       "             max_delta_step=None, max_depth=None, max_leaves=None,\n",
       "             min_child_weight=None, missing=nan, monotone_constraints=None,\n",
       "             multi_strategy=None, n_estimators=None, n_jobs=None,\n",
       "             num_parallel_tree=None, random_state=None, ...)"
      ]
     },
     "execution_count": 64,
     "metadata": {},
     "output_type": "execute_result"
    }
   ],
   "source": [
    "# 使用篩選後的特徵重新訓練模型\n",
    "model.fit(X_important_train, y_train)"
   ]
  },
  {
   "cell_type": "code",
   "execution_count": 65,
   "id": "eaa72530",
   "metadata": {},
   "outputs": [],
   "source": [
    "# 重新預測\n",
    "y_pred_important = model.predict(X_important_test)"
   ]
  },
  {
   "cell_type": "code",
   "execution_count": 66,
   "id": "8ec825dd",
   "metadata": {},
   "outputs": [
    {
     "name": "stdout",
     "output_type": "stream",
     "text": [
      "\n",
      "使用重要特徵後的MAPE: 0.20331576851033625\n",
      "使用重要特徵後的RMSE: 5.19634028323425\n",
      "使用重要特徵後的R2: 0.631793817589758\n"
     ]
    }
   ],
   "source": [
    "# 計算績效指標\n",
    "mape_important = mean_absolute_percentage_error(y_test, y_pred_important)\n",
    "rmse_important = np.sqrt(mean_squared_error(y_test, y_pred_important))\n",
    "r2_important = r2_score(y_test, y_pred_important)\n",
    "\n",
    "print(f\"\\n使用重要特徵後的MAPE: {mape_important}\")\n",
    "print(f\"使用重要特徵後的RMSE: {rmse_important}\")\n",
    "print(f\"使用重要特徵後的R2: {r2_important}\")"
   ]
  },
  {
   "cell_type": "code",
   "execution_count": 70,
   "id": "301e30a2",
   "metadata": {},
   "outputs": [
    {
     "name": "stdout",
     "output_type": "stream",
     "text": [
      "  Metric  Original Model  Reduced Features Model\n",
      "0   MAPE        0.105366                0.203316\n",
      "1   RMSE        2.628542                5.196340\n",
      "2     R2        0.905784                0.631794\n"
     ]
    }
   ],
   "source": [
    "# 列印績效比較表格\n",
    "performance_comparison = pd.DataFrame({\n",
    "    \"Metric\": [\"MAPE\", \"RMSE\", \"R2\"],\n",
    "    \"Original Model\": [mape, rmse, r2],\n",
    "    \"Reduced Features Model\": [mape_important, rmse_important, r2_important]\n",
    "})\n",
    "\n",
    "print(performance_comparison)"
   ]
  },
  {
   "cell_type": "markdown",
   "id": "4b7666b2",
   "metadata": {},
   "source": [
    "# 選擇最小的三個特徵(不重要)和最大的三個特徵(最重要)，將其特徵刪除作為重新訓練的模型"
   ]
  },
  {
   "cell_type": "code",
   "execution_count": 73,
   "id": "dd6420af",
   "metadata": {},
   "outputs": [
    {
     "name": "stdout",
     "output_type": "stream",
     "text": [
      "最重要的3個特徵： Index(['DIS', 'LSTAT', 'RM'], dtype='object')\n",
      "最不重要的3個特徵： Index(['ZN', 'CHAS', 'INDUS'], dtype='object')\n"
     ]
    }
   ],
   "source": [
    "# 獲取最重要和最不重要的3個特徵\n",
    "important_features = np.argsort(feature_importances)[-3:]\n",
    "least_important_features = np.argsort(feature_importances)[:3]\n",
    "print(\"最重要的3個特徵：\", X.columns[important_features])\n",
    "print(\"最不重要的3個特徵：\", X.columns[least_important_features])"
   ]
  },
  {
   "cell_type": "code",
   "execution_count": 74,
   "id": "09a53fd4",
   "metadata": {},
   "outputs": [],
   "source": [
    "# 刪除最大三個特徵(最重要的3個特徵)\n",
    "X_train_reduced_max = X_train.drop(X_train.columns[important_features], axis=1)\n",
    "X_test_reduced_max = X_test.drop(X_test.columns[important_features], axis=1)"
   ]
  },
  {
   "cell_type": "code",
   "execution_count": 75,
   "id": "ab56a0a6",
   "metadata": {},
   "outputs": [],
   "source": [
    "# 使用刪除最重要特徵後的數據重新訓練模型\n",
    "model.fit(X_train_reduced_max, y_train)\n",
    "y_pred_reduced_max = model.predict(X_test_reduced_max)"
   ]
  },
  {
   "cell_type": "code",
   "execution_count": 77,
   "id": "31cae689",
   "metadata": {},
   "outputs": [
    {
     "name": "stdout",
     "output_type": "stream",
     "text": [
      "\n",
      "使用重要特徵後的MAPE: 0.14615995550202368\n",
      "使用重要特徵後的RMSE: 4.862350129187862\n",
      "使用重要特徵後的R2: 0.6776049487706655\n"
     ]
    }
   ],
   "source": [
    "# 計算刪除最重要特徵後模型的績效指標\n",
    "mape_reduced_max = mean_absolute_percentage_error(y_test, y_pred_reduced_max)\n",
    "rmse_reduced_max = np.sqrt(mean_squared_error(y_test, y_pred_reduced_max))\n",
    "r2_reduced_max = r2_score(y_test, y_pred_reduced_max)\n",
    "print(f\"\\n使用重要特徵後的MAPE: {mape_reduced_max}\")\n",
    "print(f\"使用重要特徵後的RMSE: {rmse_reduced_max}\")\n",
    "print(f\"使用重要特徵後的R2: {r2_reduced_max}\")"
   ]
  },
  {
   "cell_type": "code",
   "execution_count": 78,
   "id": "962af0f2",
   "metadata": {},
   "outputs": [],
   "source": [
    "# 刪除最小三個特徵(最不重要的3個特徵)\n",
    "X_train_reduced_min = X_train.drop(X_train.columns[least_important_features], axis=1)\n",
    "X_test_reduced_min = X_test.drop(X_test.columns[least_important_features], axis=1)"
   ]
  },
  {
   "cell_type": "code",
   "execution_count": 79,
   "id": "c3b27b57",
   "metadata": {},
   "outputs": [],
   "source": [
    "model.fit(X_train_reduced_min, y_train)\n",
    "y_pred_reduced_min = model.predict(X_test_reduced_min)"
   ]
  },
  {
   "cell_type": "code",
   "execution_count": 80,
   "id": "2c630370",
   "metadata": {},
   "outputs": [
    {
     "name": "stdout",
     "output_type": "stream",
     "text": [
      "\n",
      "使用重要特徵後的MAPE: 0.10146242910399951\n",
      "使用重要特徵後的RMSE: 2.640539782491016\n",
      "使用重要特徵後的R2: 0.9049217148981055\n"
     ]
    }
   ],
   "source": [
    "# 計算刪除最不重要特徵後模型的績效指標\n",
    "mape_reduced_min = mean_absolute_percentage_error(y_test, y_pred_reduced_min)\n",
    "rmse_reduced_min = np.sqrt(mean_squared_error(y_test, y_pred_reduced_min))\n",
    "r2_reduced_min = r2_score(y_test, y_pred_reduced_min)\n",
    "print(f\"\\n使用重要特徵後的MAPE: {mape_reduced_min}\")\n",
    "print(f\"使用重要特徵後的RMSE: {rmse_reduced_min}\")\n",
    "print(f\"使用重要特徵後的R2: {r2_reduced_min}\")"
   ]
  },
  {
   "cell_type": "code",
   "execution_count": 81,
   "id": "73495988",
   "metadata": {},
   "outputs": [
    {
     "name": "stdout",
     "output_type": "stream",
     "text": [
      "刪除最重要特徵後的績效:\n",
      "MAPE: 0.14615995550202368, RMSE: 4.862350129187862, R2: 0.6776049487706655\n",
      "\n",
      "刪除最不重要特徵後的績效:\n",
      "MAPE: 0.10146242910399951, RMSE: 2.640539782491016, R2: 0.9049217148981055\n"
     ]
    }
   ],
   "source": [
    "# 列印績效比較\n",
    "print(\"刪除最重要特徵後的績效:\")\n",
    "print(f\"MAPE: {mape_reduced_max}, RMSE: {rmse_reduced_max}, R2: {r2_reduced_max}\")\n",
    "\n",
    "print(\"\\n刪除最不重要特徵後的績效:\")\n",
    "print(f\"MAPE: {mape_reduced_min}, RMSE: {rmse_reduced_min}, R2: {r2_reduced_min}\")"
   ]
  },
  {
   "cell_type": "markdown",
   "id": "b1e2ac1f",
   "metadata": {},
   "source": [
    "# 績效比較表"
   ]
  },
  {
   "cell_type": "code",
   "execution_count": 86,
   "id": "f8066792",
   "metadata": {},
   "outputs": [
    {
     "name": "stdout",
     "output_type": "stream",
     "text": [
      "  Metric  Original Model  Above Avg Removed  Top 3 Removed  Bottom 3  Removed\n",
      "0   MAPE        0.105366           0.203316       0.146160           0.101462\n",
      "1   RMSE        2.628542           5.196340       4.862350           2.640540\n",
      "2     R2        0.905784           0.631794       0.677605           0.904922\n"
     ]
    }
   ],
   "source": [
    "# 列印績效比較表格\n",
    "performance_comparison = pd.DataFrame({\n",
    "    \"Metric\": [\"MAPE\", \"RMSE\", \"R2\"],\n",
    "    \"Original Model\": [mape, rmse, r2],\n",
    "    \"Above Avg Removed\": [mape_important, rmse_important, r2_important],\n",
    "    \"Top 3 Removed\": [mape_reduced_max, rmse_reduced_max, r2_reduced_max],\n",
    "    \"Bottom 3  Removed\": [mape_reduced_min, rmse_reduced_min, r2_reduced_min]\n",
    "})\n",
    "\n",
    "print(performance_comparison)"
   ]
  }
 ],
 "metadata": {
  "kernelspec": {
   "display_name": "Python 3 (ipykernel)",
   "language": "python",
   "name": "python3"
  },
  "language_info": {
   "codemirror_mode": {
    "name": "ipython",
    "version": 3
   },
   "file_extension": ".py",
   "mimetype": "text/x-python",
   "name": "python",
   "nbconvert_exporter": "python",
   "pygments_lexer": "ipython3",
   "version": "3.10.9"
  }
 },
 "nbformat": 4,
 "nbformat_minor": 5
}
